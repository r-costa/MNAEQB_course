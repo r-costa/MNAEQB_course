{
  "nbformat": 4,
  "nbformat_minor": 0,
  "metadata": {
    "colab": {
      "provenance": []
    },
    "kernelspec": {
      "name": "python3",
      "display_name": "Python 3"
    },
    "language_info": {
      "name": "python"
    }
  },
  "cells": [
    {
      "cell_type": "markdown",
      "source": [
        "## Welcome to Numerical Methods Applied to Chemical and Biological Engineering ([MNAEQB](https://guia.unl.pt/en/2022/fct/program/1062/course/12563)) Course @NOVA-FCT\n",
        "\n",
        "###MINI-PROJECT V\n",
        "\n",
        "####Contacts:\n",
        "If you have any questions regarding the exercises or any feedback, feel free to contact R. Costa, rs.costa (at) fct.unl.pt or R. Oliveira rmo (at) fct.unl.pt\n",
        "\n",
        "---\n",
        "---\n",
        "\n",
        "NOTES:\n",
        "\n",
        "- We will be using Python ([Google Colaboratory](https://colab.research.google.com/) or install [Jupyter](https://docs.anaconda.com/anaconda/install/index.html));\n",
        "\n",
        "- Save/run this notebook on your own laptop;\n",
        "\n",
        "- These exercises are designed to be run on a personal computer;\n",
        "\n",
        "- Save this notebook on your own laptop;\n",
        "\n",
        "- Each pratical exercise is followed by a code cell with some tips where you can type/execute your code."
      ],
      "metadata": {
        "id": "bVSOKcyMCr0p"
      }
    },
    {
      "cell_type": "markdown",
      "source": [
        "-----\n",
        "###**PROBLEM 5 – Supervised Learning: Data Extraction/Exploration and Classification Problem**\n",
        "-----\n",
        "\n",
        "### Consider the following [Yeast data](https://archive.ics.uci.edu/ml/datasets/Yeast) (high-dimensional) available at the [UCI Machine Learning repository](https://archive.ics.uci.edu/). The dataset contains  1483 yeast proteins classified into 10 classes (various localization sites) using 8 features (protein sequences).\n",
        "\n",
        "**Classses (categorical target):** cytoplasmic, including cytoskeletal (CYT); nuclear (NUC); vacuolar (VAC); mitochondrial (MIT); isomal (POX); extracellular, including those localized to the cell wall (EXC); proteins localized t.o the lumen of the endoplasmic reticulum (ERL); membrane proteins with a cleaved signal (ME1); membrane proteins with an uncleared signal (ME2); and membrane proteins with no N-terminal signM (ME3), where ME1, ME2, and ME3 proteins may be localized to the plasma membrane, the endoplasmic reticulum membrane, or the membrane of a Golgi body."
      ],
      "metadata": {
        "id": "bG0keHrkCwsg"
      }
    },
    {
      "cell_type": "markdown",
      "source": [
        "###**Problem 5.1**\n",
        "-----\n",
        "\n",
        "####*a)* Load and print the dataset.\n",
        "\n",
        "####*b)* Analyze the properties of the dataset and compute the distribution of the variables using histograms (further reading https://bit.ly/3FdVZzQ).\n",
        "\n",
        "####*c)* Compute the mean, median and standard deviation values (further reading https://bit.ly/3FbMe5n).\n",
        "\n",
        "####*d)* Compute the correlation between domain variables and plot the heatmap (further reading https://bit.ly/3qtF88l).\n",
        "\n",
        "####*e)* Compute the outliers (further reading https://bit.ly/3kyk10F)."
      ],
      "metadata": {
        "id": "cJkRDcChC7_-"
      }
    },
    {
      "cell_type": "code",
      "execution_count": null,
      "metadata": {
        "id": "S9-quN6oCmk8"
      },
      "outputs": [],
      "source": [
        "###TYPE YOUR CODE HERE (...)\n",
        "\n"
      ]
    },
    {
      "cell_type": "markdown",
      "source": [
        "###**Problem 5.2**\n",
        "-----\n",
        "\n",
        "####*a)* Write a Python programm to the problem of classifying protein sequences into their various localization sites. Choose the `Gaussian Naive Bayes` machine learning model from `sklearn` with cross-validation. Evaluate the model performance using 3 metrics: `accuracy`, `AUC` and `F1 score`.\n",
        "\n",
        "####*b)* Apply two re-sampling strategies (removing and creating instances) to the dataset: `RandomUnderSampler` and `SMOTE`. Compute the metrics and compare the model performance with the previous exercise a). Critically interpret the why behind the impact of re-sampling."
      ],
      "metadata": {
        "id": "Lh18cI2iDkE1"
      }
    },
    {
      "cell_type": "code",
      "source": [
        "###TYPE YOUR CODE HERE (...)\n",
        "\n"
      ],
      "metadata": {
        "id": "dUs06Od3DnOb"
      },
      "execution_count": null,
      "outputs": []
    }
  ]
}